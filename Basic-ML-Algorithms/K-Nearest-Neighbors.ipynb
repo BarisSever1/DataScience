{
 "cells": [
  {
   "cell_type": "code",
   "execution_count": 149,
   "id": "f423e249-4e57-4937-a4d7-edeaeb42190d",
   "metadata": {},
   "outputs": [],
   "source": [
    "import pandas as pd\n",
    "from sklearn.preprocessing import StandardScaler\n",
    "import numpy as np\n",
    "from math import sqrt\n",
    "import matplotlib.pyplot as plt\n",
    "from sklearn.metrics import r2_score, confusion_matrix\n",
    "from sklearn.preprocessing import OneHotEncoder, LabelEncoder\n",
    "import matplotlib.patches as mpatches\n",
    "from sklearn import linear_model, tree\n",
    "from sklearn.datasets import load_digits\n",
    "from sklearn.model_selection import train_test_split \n",
    "from sklearn.svm import SVC\n",
    "from sklearn.linear_model import LinearRegression, LogisticRegression\n",
    "import seaborn as sns\n",
    "from sklearn.neighbors import KNeighborsClassifier\n",
    "%matplotlib inline\n",
    "from random import randint, choice, choices"
   ]
  },
  {
   "cell_type": "code",
   "execution_count": 150,
   "id": "28c77c84-6c40-4e05-b83e-b653c0f72b09",
   "metadata": {},
   "outputs": [],
   "source": [
    "df = pd.read_excel('../Pumpkin_Seeds_Dataset.xlsx')"
   ]
  },
  {
   "cell_type": "code",
   "execution_count": 151,
   "id": "ff55fb33-58a1-462f-b978-4a6aa3b522ee",
   "metadata": {},
   "outputs": [
    {
     "data": {
      "text/html": [
       "<div>\n",
       "<style scoped>\n",
       "    .dataframe tbody tr th:only-of-type {\n",
       "        vertical-align: middle;\n",
       "    }\n",
       "\n",
       "    .dataframe tbody tr th {\n",
       "        vertical-align: top;\n",
       "    }\n",
       "\n",
       "    .dataframe thead th {\n",
       "        text-align: right;\n",
       "    }\n",
       "</style>\n",
       "<table border=\"1\" class=\"dataframe\">\n",
       "  <thead>\n",
       "    <tr style=\"text-align: right;\">\n",
       "      <th></th>\n",
       "      <th>Area</th>\n",
       "      <th>Perimeter</th>\n",
       "      <th>Major_Axis_Length</th>\n",
       "      <th>Minor_Axis_Length</th>\n",
       "      <th>Convex_Area</th>\n",
       "      <th>Equiv_Diameter</th>\n",
       "      <th>Eccentricity</th>\n",
       "      <th>Solidity</th>\n",
       "      <th>Extent</th>\n",
       "      <th>Roundness</th>\n",
       "      <th>Aspect_Ration</th>\n",
       "      <th>Compactness</th>\n",
       "      <th>Class</th>\n",
       "    </tr>\n",
       "  </thead>\n",
       "  <tbody>\n",
       "    <tr>\n",
       "      <th>0</th>\n",
       "      <td>56276</td>\n",
       "      <td>888.242</td>\n",
       "      <td>326.1485</td>\n",
       "      <td>220.2388</td>\n",
       "      <td>56831</td>\n",
       "      <td>267.6805</td>\n",
       "      <td>0.7376</td>\n",
       "      <td>0.9902</td>\n",
       "      <td>0.7453</td>\n",
       "      <td>0.8963</td>\n",
       "      <td>1.4809</td>\n",
       "      <td>0.8207</td>\n",
       "      <td>Çerçevelik</td>\n",
       "    </tr>\n",
       "    <tr>\n",
       "      <th>1</th>\n",
       "      <td>76631</td>\n",
       "      <td>1068.146</td>\n",
       "      <td>417.1932</td>\n",
       "      <td>234.2289</td>\n",
       "      <td>77280</td>\n",
       "      <td>312.3614</td>\n",
       "      <td>0.8275</td>\n",
       "      <td>0.9916</td>\n",
       "      <td>0.7151</td>\n",
       "      <td>0.8440</td>\n",
       "      <td>1.7811</td>\n",
       "      <td>0.7487</td>\n",
       "      <td>Çerçevelik</td>\n",
       "    </tr>\n",
       "    <tr>\n",
       "      <th>2</th>\n",
       "      <td>71623</td>\n",
       "      <td>1082.987</td>\n",
       "      <td>435.8328</td>\n",
       "      <td>211.0457</td>\n",
       "      <td>72663</td>\n",
       "      <td>301.9822</td>\n",
       "      <td>0.8749</td>\n",
       "      <td>0.9857</td>\n",
       "      <td>0.7400</td>\n",
       "      <td>0.7674</td>\n",
       "      <td>2.0651</td>\n",
       "      <td>0.6929</td>\n",
       "      <td>Çerçevelik</td>\n",
       "    </tr>\n",
       "    <tr>\n",
       "      <th>3</th>\n",
       "      <td>66458</td>\n",
       "      <td>992.051</td>\n",
       "      <td>381.5638</td>\n",
       "      <td>222.5322</td>\n",
       "      <td>67118</td>\n",
       "      <td>290.8899</td>\n",
       "      <td>0.8123</td>\n",
       "      <td>0.9902</td>\n",
       "      <td>0.7396</td>\n",
       "      <td>0.8486</td>\n",
       "      <td>1.7146</td>\n",
       "      <td>0.7624</td>\n",
       "      <td>Çerçevelik</td>\n",
       "    </tr>\n",
       "    <tr>\n",
       "      <th>4</th>\n",
       "      <td>66107</td>\n",
       "      <td>998.146</td>\n",
       "      <td>383.8883</td>\n",
       "      <td>220.4545</td>\n",
       "      <td>67117</td>\n",
       "      <td>290.1207</td>\n",
       "      <td>0.8187</td>\n",
       "      <td>0.9850</td>\n",
       "      <td>0.6752</td>\n",
       "      <td>0.8338</td>\n",
       "      <td>1.7413</td>\n",
       "      <td>0.7557</td>\n",
       "      <td>Çerçevelik</td>\n",
       "    </tr>\n",
       "    <tr>\n",
       "      <th>...</th>\n",
       "      <td>...</td>\n",
       "      <td>...</td>\n",
       "      <td>...</td>\n",
       "      <td>...</td>\n",
       "      <td>...</td>\n",
       "      <td>...</td>\n",
       "      <td>...</td>\n",
       "      <td>...</td>\n",
       "      <td>...</td>\n",
       "      <td>...</td>\n",
       "      <td>...</td>\n",
       "      <td>...</td>\n",
       "      <td>...</td>\n",
       "    </tr>\n",
       "    <tr>\n",
       "      <th>2495</th>\n",
       "      <td>79637</td>\n",
       "      <td>1224.710</td>\n",
       "      <td>533.1513</td>\n",
       "      <td>190.4367</td>\n",
       "      <td>80381</td>\n",
       "      <td>318.4289</td>\n",
       "      <td>0.9340</td>\n",
       "      <td>0.9907</td>\n",
       "      <td>0.4888</td>\n",
       "      <td>0.6672</td>\n",
       "      <td>2.7996</td>\n",
       "      <td>0.5973</td>\n",
       "      <td>Ürgüp Sivrisi</td>\n",
       "    </tr>\n",
       "    <tr>\n",
       "      <th>2496</th>\n",
       "      <td>69647</td>\n",
       "      <td>1084.318</td>\n",
       "      <td>462.9416</td>\n",
       "      <td>191.8210</td>\n",
       "      <td>70216</td>\n",
       "      <td>297.7874</td>\n",
       "      <td>0.9101</td>\n",
       "      <td>0.9919</td>\n",
       "      <td>0.6002</td>\n",
       "      <td>0.7444</td>\n",
       "      <td>2.4134</td>\n",
       "      <td>0.6433</td>\n",
       "      <td>Ürgüp Sivrisi</td>\n",
       "    </tr>\n",
       "    <tr>\n",
       "      <th>2497</th>\n",
       "      <td>87994</td>\n",
       "      <td>1210.314</td>\n",
       "      <td>507.2200</td>\n",
       "      <td>222.1872</td>\n",
       "      <td>88702</td>\n",
       "      <td>334.7199</td>\n",
       "      <td>0.8990</td>\n",
       "      <td>0.9920</td>\n",
       "      <td>0.7643</td>\n",
       "      <td>0.7549</td>\n",
       "      <td>2.2828</td>\n",
       "      <td>0.6599</td>\n",
       "      <td>Ürgüp Sivrisi</td>\n",
       "    </tr>\n",
       "    <tr>\n",
       "      <th>2498</th>\n",
       "      <td>80011</td>\n",
       "      <td>1182.947</td>\n",
       "      <td>501.9065</td>\n",
       "      <td>204.7531</td>\n",
       "      <td>80902</td>\n",
       "      <td>319.1758</td>\n",
       "      <td>0.9130</td>\n",
       "      <td>0.9890</td>\n",
       "      <td>0.7374</td>\n",
       "      <td>0.7185</td>\n",
       "      <td>2.4513</td>\n",
       "      <td>0.6359</td>\n",
       "      <td>Ürgüp Sivrisi</td>\n",
       "    </tr>\n",
       "    <tr>\n",
       "      <th>2499</th>\n",
       "      <td>84934</td>\n",
       "      <td>1159.933</td>\n",
       "      <td>462.8951</td>\n",
       "      <td>234.5597</td>\n",
       "      <td>85781</td>\n",
       "      <td>328.8485</td>\n",
       "      <td>0.8621</td>\n",
       "      <td>0.9901</td>\n",
       "      <td>0.7360</td>\n",
       "      <td>0.7933</td>\n",
       "      <td>1.9735</td>\n",
       "      <td>0.7104</td>\n",
       "      <td>Ürgüp Sivrisi</td>\n",
       "    </tr>\n",
       "  </tbody>\n",
       "</table>\n",
       "<p>2500 rows × 13 columns</p>\n",
       "</div>"
      ],
      "text/plain": [
       "       Area  Perimeter  Major_Axis_Length  Minor_Axis_Length  Convex_Area  \\\n",
       "0     56276    888.242           326.1485           220.2388        56831   \n",
       "1     76631   1068.146           417.1932           234.2289        77280   \n",
       "2     71623   1082.987           435.8328           211.0457        72663   \n",
       "3     66458    992.051           381.5638           222.5322        67118   \n",
       "4     66107    998.146           383.8883           220.4545        67117   \n",
       "...     ...        ...                ...                ...          ...   \n",
       "2495  79637   1224.710           533.1513           190.4367        80381   \n",
       "2496  69647   1084.318           462.9416           191.8210        70216   \n",
       "2497  87994   1210.314           507.2200           222.1872        88702   \n",
       "2498  80011   1182.947           501.9065           204.7531        80902   \n",
       "2499  84934   1159.933           462.8951           234.5597        85781   \n",
       "\n",
       "      Equiv_Diameter  Eccentricity  Solidity  Extent  Roundness  \\\n",
       "0           267.6805        0.7376    0.9902  0.7453     0.8963   \n",
       "1           312.3614        0.8275    0.9916  0.7151     0.8440   \n",
       "2           301.9822        0.8749    0.9857  0.7400     0.7674   \n",
       "3           290.8899        0.8123    0.9902  0.7396     0.8486   \n",
       "4           290.1207        0.8187    0.9850  0.6752     0.8338   \n",
       "...              ...           ...       ...     ...        ...   \n",
       "2495        318.4289        0.9340    0.9907  0.4888     0.6672   \n",
       "2496        297.7874        0.9101    0.9919  0.6002     0.7444   \n",
       "2497        334.7199        0.8990    0.9920  0.7643     0.7549   \n",
       "2498        319.1758        0.9130    0.9890  0.7374     0.7185   \n",
       "2499        328.8485        0.8621    0.9901  0.7360     0.7933   \n",
       "\n",
       "      Aspect_Ration  Compactness          Class  \n",
       "0            1.4809       0.8207     Çerçevelik  \n",
       "1            1.7811       0.7487     Çerçevelik  \n",
       "2            2.0651       0.6929     Çerçevelik  \n",
       "3            1.7146       0.7624     Çerçevelik  \n",
       "4            1.7413       0.7557     Çerçevelik  \n",
       "...             ...          ...            ...  \n",
       "2495         2.7996       0.5973  Ürgüp Sivrisi  \n",
       "2496         2.4134       0.6433  Ürgüp Sivrisi  \n",
       "2497         2.2828       0.6599  Ürgüp Sivrisi  \n",
       "2498         2.4513       0.6359  Ürgüp Sivrisi  \n",
       "2499         1.9735       0.7104  Ürgüp Sivrisi  \n",
       "\n",
       "[2500 rows x 13 columns]"
      ]
     },
     "execution_count": 151,
     "metadata": {},
     "output_type": "execute_result"
    }
   ],
   "source": [
    "df"
   ]
  },
  {
   "cell_type": "markdown",
   "id": "be56c06d-ee93-4825-9489-1394ffdc23b4",
   "metadata": {},
   "source": [
    "<h1>Data Preprocessing & Scaling</h1>"
   ]
  },
  {
   "cell_type": "code",
   "execution_count": 152,
   "id": "f89427b9-62df-42c5-88e5-01afa17bc13c",
   "metadata": {},
   "outputs": [],
   "source": [
    "label = LabelEncoder()\n",
    "df['Target'] = pd.Series(label.fit_transform(df['Class']))"
   ]
  },
  {
   "cell_type": "code",
   "execution_count": 153,
   "id": "372a6141-8b9d-4ff8-b356-3764978a9851",
   "metadata": {},
   "outputs": [
    {
     "data": {
      "text/plain": [
       "Area                 0\n",
       "Perimeter            0\n",
       "Major_Axis_Length    0\n",
       "Minor_Axis_Length    0\n",
       "Convex_Area          0\n",
       "Equiv_Diameter       0\n",
       "Eccentricity         0\n",
       "Solidity             0\n",
       "Extent               0\n",
       "Roundness            0\n",
       "Aspect_Ration        0\n",
       "Compactness          0\n",
       "Class                0\n",
       "Target               0\n",
       "dtype: int64"
      ]
     },
     "execution_count": 153,
     "metadata": {},
     "output_type": "execute_result"
    }
   ],
   "source": [
    "df.isna().sum()"
   ]
  },
  {
   "cell_type": "code",
   "execution_count": 154,
   "id": "a254a01c-af82-486d-b2c2-df97d788cf40",
   "metadata": {},
   "outputs": [
    {
     "data": {
      "text/plain": [
       "0"
      ]
     },
     "execution_count": 154,
     "metadata": {},
     "output_type": "execute_result"
    }
   ],
   "source": [
    "df.duplicated().sum()"
   ]
  },
  {
   "cell_type": "code",
   "execution_count": 155,
   "id": "dad7da1f-6ee8-4914-ba43-e724d59c6137",
   "metadata": {},
   "outputs": [
    {
     "data": {
      "text/html": [
       "<div>\n",
       "<style scoped>\n",
       "    .dataframe tbody tr th:only-of-type {\n",
       "        vertical-align: middle;\n",
       "    }\n",
       "\n",
       "    .dataframe tbody tr th {\n",
       "        vertical-align: top;\n",
       "    }\n",
       "\n",
       "    .dataframe thead th {\n",
       "        text-align: right;\n",
       "    }\n",
       "</style>\n",
       "<table border=\"1\" class=\"dataframe\">\n",
       "  <thead>\n",
       "    <tr style=\"text-align: right;\">\n",
       "      <th></th>\n",
       "      <th>Area</th>\n",
       "      <th>Perimeter</th>\n",
       "      <th>Major_Axis_Length</th>\n",
       "      <th>Minor_Axis_Length</th>\n",
       "      <th>Convex_Area</th>\n",
       "      <th>Equiv_Diameter</th>\n",
       "      <th>Eccentricity</th>\n",
       "      <th>Solidity</th>\n",
       "      <th>Extent</th>\n",
       "      <th>Roundness</th>\n",
       "      <th>Aspect_Ration</th>\n",
       "      <th>Compactness</th>\n",
       "      <th>Target</th>\n",
       "    </tr>\n",
       "    <tr>\n",
       "      <th>Class</th>\n",
       "      <th></th>\n",
       "      <th></th>\n",
       "      <th></th>\n",
       "      <th></th>\n",
       "      <th></th>\n",
       "      <th></th>\n",
       "      <th></th>\n",
       "      <th></th>\n",
       "      <th></th>\n",
       "      <th></th>\n",
       "      <th></th>\n",
       "      <th></th>\n",
       "      <th></th>\n",
       "    </tr>\n",
       "  </thead>\n",
       "  <tbody>\n",
       "    <tr>\n",
       "      <th>Çerçevelik</th>\n",
       "      <td>78423.154615</td>\n",
       "      <td>1089.522488</td>\n",
       "      <td>426.272615</td>\n",
       "      <td>234.776929</td>\n",
       "      <td>79286.488462</td>\n",
       "      <td>315.193332</td>\n",
       "      <td>0.830538</td>\n",
       "      <td>0.989080</td>\n",
       "      <td>0.707018</td>\n",
       "      <td>0.827499</td>\n",
       "      <td>1.822609</td>\n",
       "      <td>0.741163</td>\n",
       "      <td>0.0</td>\n",
       "    </tr>\n",
       "    <tr>\n",
       "      <th>Ürgüp Sivrisi</th>\n",
       "      <td>83079.542500</td>\n",
       "      <td>1174.431919</td>\n",
       "      <td>489.458501</td>\n",
       "      <td>216.064413</td>\n",
       "      <td>83914.813333</td>\n",
       "      <td>323.820202</td>\n",
       "      <td>0.893749</td>\n",
       "      <td>0.989938</td>\n",
       "      <td>0.678240</td>\n",
       "      <td>0.752570</td>\n",
       "      <td>2.279054</td>\n",
       "      <td>0.663991</td>\n",
       "      <td>1.0</td>\n",
       "    </tr>\n",
       "  </tbody>\n",
       "</table>\n",
       "</div>"
      ],
      "text/plain": [
       "                       Area    Perimeter  Major_Axis_Length  \\\n",
       "Class                                                         \n",
       "Çerçevelik     78423.154615  1089.522488         426.272615   \n",
       "Ürgüp Sivrisi  83079.542500  1174.431919         489.458501   \n",
       "\n",
       "               Minor_Axis_Length   Convex_Area  Equiv_Diameter  Eccentricity  \\\n",
       "Class                                                                          \n",
       "Çerçevelik            234.776929  79286.488462      315.193332      0.830538   \n",
       "Ürgüp Sivrisi         216.064413  83914.813333      323.820202      0.893749   \n",
       "\n",
       "               Solidity    Extent  Roundness  Aspect_Ration  Compactness  \\\n",
       "Class                                                                      \n",
       "Çerçevelik     0.989080  0.707018   0.827499       1.822609     0.741163   \n",
       "Ürgüp Sivrisi  0.989938  0.678240   0.752570       2.279054     0.663991   \n",
       "\n",
       "               Target  \n",
       "Class                  \n",
       "Çerçevelik        0.0  \n",
       "Ürgüp Sivrisi     1.0  "
      ]
     },
     "execution_count": 155,
     "metadata": {},
     "output_type": "execute_result"
    }
   ],
   "source": [
    "df.groupby('Class').mean()"
   ]
  },
  {
   "cell_type": "code",
   "execution_count": 156,
   "id": "eefb8083-1988-43f9-8ee9-8cc631e216e9",
   "metadata": {},
   "outputs": [],
   "source": [
    "df = df.sample(frac=1)"
   ]
  },
  {
   "cell_type": "code",
   "execution_count": 157,
   "id": "9ac49120-d564-46ab-b96f-e738e1232042",
   "metadata": {},
   "outputs": [],
   "source": [
    "df = df.drop('Class', axis=1)"
   ]
  },
  {
   "cell_type": "code",
   "execution_count": 158,
   "id": "3749063a-264a-4375-b5fe-871d8178ed6a",
   "metadata": {},
   "outputs": [],
   "source": [
    "scaler = StandardScaler()\n",
    "scaled_train = scaler.fit_transform(df.drop('Target', axis=1))"
   ]
  },
  {
   "cell_type": "markdown",
   "id": "06134c40-94c1-4aa5-8dd8-ecf8595132dc",
   "metadata": {},
   "source": [
    "<h1>Modeling</h1>"
   ]
  },
  {
   "cell_type": "code",
   "execution_count": 159,
   "id": "3784d029-216c-4deb-aa87-926f83f1711e",
   "metadata": {},
   "outputs": [],
   "source": [
    "x_train, x_test, y_train, y_test = train_test_split(scaled_train, df['Target'],  test_size=0.2) "
   ]
  },
  {
   "cell_type": "code",
   "execution_count": 160,
   "id": "d35e0c84-84f9-43db-83a0-1ad4a7e2cdf7",
   "metadata": {},
   "outputs": [
    {
     "name": "stdout",
     "output_type": "stream",
     "text": [
      "Best score is 0.874\n"
     ]
    }
   ],
   "source": [
    "models = []\n",
    "scores = []\n",
    "\n",
    "for x in range(3, 15):\n",
    "    model = KNeighborsClassifier(n_neighbors=x)\n",
    "    model.fit(x_train, y_train)\n",
    "    score = model.score(x_test, y_test)\n",
    "    scores.append(score)\n",
    "    models.append(model)\n",
    "\n",
    "print(f\"Best score is {max(scores)}\")"
   ]
  },
  {
   "cell_type": "code",
   "execution_count": 161,
   "id": "87b14993-4624-4ce7-b53f-9f57323e5ce7",
   "metadata": {},
   "outputs": [],
   "source": [
    "best_model = models[scores.index(max(scores))]"
   ]
  },
  {
   "cell_type": "code",
   "execution_count": 162,
   "id": "9eec4071-5b6f-4238-aad9-f7227e7e8a4d",
   "metadata": {},
   "outputs": [],
   "source": [
    "y_predicted = best_model.predict(x_test)"
   ]
  },
  {
   "cell_type": "code",
   "execution_count": 163,
   "id": "0801051c-23c2-4ee9-895f-e704a53d37a5",
   "metadata": {},
   "outputs": [
    {
     "data": {
      "text/plain": [
       "array([[159, 175],\n",
       "       [ 97,  69]], dtype=int64)"
      ]
     },
     "execution_count": 163,
     "metadata": {},
     "output_type": "execute_result"
    }
   ],
   "source": [
    "conf_matrix = confusion_matrix(y_predict, y_test)\n",
    "conf_matrix"
   ]
  },
  {
   "cell_type": "code",
   "execution_count": 167,
   "id": "c086a83e-1125-40fe-9bbb-43a6c389092b",
   "metadata": {},
   "outputs": [
    {
     "data": {
      "image/png": "[encoded data removed]",
      "text/plain": [
       "<Figure size 800x600 with 2 Axes>"
      ]
     },
     "metadata": {},
     "output_type": "display_data"
    }
   ],
   "source": [
    "class_labels = ['Çerçevelik', 'Ürgüp Sivrisi']\n",
    "\n",
    "# Create a Seaborn heatmap for the confusion matrix\n",
    "plt.figure(figsize=(8, 6))\n",
    "sns.set(font_scale=1.2)  # Adjust the font size as needed\n",
    "\n",
    "# Create the heatmap\n",
    "sns.heatmap(conf_matrix, annot=True, fmt=\"d\",\n",
    "            xticklabels=class_labels, yticklabels=class_labels)\n",
    "\n",
    "plt.xlabel('Predicted')\n",
    "plt.ylabel('Actual')\n",
    "plt.title('Confusion Matrix')\n",
    "\n",
    "plt.show()"
   ]
  },
  {
   "cell_type": "code",
   "execution_count": null,
   "id": "8983b0c5-aada-4522-ba80-e96715006fef",
   "metadata": {},
   "outputs": [],
   "source": []
  }
 ],
 "metadata": {
  "kernelspec": {
   "display_name": "Python 3 (ipykernel)",
   "language": "python",
   "name": "python3"
  },
  "language_info": {
   "codemirror_mode": {
    "name": "ipython",
    "version": 3
   },
   "file_extension": ".py",
   "mimetype": "text/x-python",
   "name": "python",
   "nbconvert_exporter": "python",
   "pygments_lexer": "ipython3",
   "version": "3.11.3"
  }
 },
 "nbformat": 4,
 "nbformat_minor": 5
}
